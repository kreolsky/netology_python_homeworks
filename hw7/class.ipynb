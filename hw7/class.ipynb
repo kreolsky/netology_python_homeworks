{
 "cells": [
  {
   "cell_type": "markdown",
   "id": "informal-transport",
   "metadata": {},
   "source": [
    "<h2>Задание 1</h2>\n",
    "Напишите функцию, которая возвращает название валюты (поле ‘Name’) с максимальным значением курса с помощью сервиса https://www.cbr-xml-daily.ru/daily_json.js"
   ]
  },
  {
   "cell_type": "code",
   "execution_count": 10,
   "id": "biological-permission",
   "metadata": {},
   "outputs": [
    {
     "data": {
      "text/plain": [
       "'СДР (специальные права заимствования)'"
      ]
     },
     "execution_count": 10,
     "metadata": {},
     "output_type": "execute_result"
    }
   ],
   "source": [
    "import requests\n",
    "\n",
    "\n",
    "def get_most_expensive(API_URL):\n",
    "    r = requests.get(API_URL).json()['Valute']\n",
    "\n",
    "    return max(valute.values(), key=lambda x: x['Value'])['Name']\n",
    "\n",
    "\n",
    "API_URL = 'https://www.cbr-xml-daily.ru/daily_json.js'\n",
    "get_most_expensive(API_URL)"
   ]
  },
  {
   "cell_type": "markdown",
   "id": "comprehensive-loading",
   "metadata": {},
   "source": [
    "<h2>Задание 2</h2>\n",
    "Добавьте в класс Rate параметр diff (со значениями True или False), который в случае значения True в методах курсов валют (eur, usd итд) будет возвращать не курс валюты, а изменение по сравнению в прошлым значением. Считайте, self.diff будет принимать значение True только при возврате значения курса. При отображении всей информации о валюте он не используется."
   ]
  },
  {
   "cell_type": "code",
   "execution_count": 15,
   "id": "hindu-throat",
   "metadata": {},
   "outputs": [],
   "source": [
    "class Rate:\n",
    "    def __init__(self, format_='value', diff=False):\n",
    "        self.format = format_\n",
    "        self.diff = diff\n",
    "    \n",
    "    def exchange_rates(self):\n",
    "        \"\"\"\n",
    "        Возвращает ответ сервиса с информацией о валютах в виде:\n",
    "        \n",
    "        {\n",
    "            'AMD': {\n",
    "                'CharCode': 'AMD',\n",
    "                'ID': 'R01060',\n",
    "                'Name': 'Армянских драмов',\n",
    "                'Nominal': 100,\n",
    "                'NumCode': '051',\n",
    "                'Previous': 14.103,\n",
    "                'Value': 14.0879\n",
    "                },\n",
    "            ...\n",
    "        }\n",
    "        \"\"\"\n",
    "        self.r = requests.get('https://www.cbr-xml-daily.ru/daily_json.js')\n",
    "        return self.r.json()['Valute']\n",
    "    \n",
    "    def make_format(self, currency):\n",
    "        \"\"\"\n",
    "        Возвращает информацию о валюте currency в двух вариантах:\n",
    "        - полная информация о валюте при self.format = 'full':\n",
    "        Rate('full').make_format('EUR')\n",
    "        {\n",
    "            'CharCode': 'EUR',\n",
    "            'ID': 'R01239',\n",
    "            'Name': 'Евро',\n",
    "            'Nominal': 1,\n",
    "            'NumCode': '978',\n",
    "            'Previous': 79.6765,\n",
    "            'Value': 79.4966\n",
    "        }\n",
    "        \n",
    "        Rate('value').make_format('EUR')\n",
    "        79.4966\n",
    "        \"\"\"\n",
    "        response = self.exchange_rates()\n",
    "        \n",
    "        if currency in response:\n",
    "            if self.format == 'full':\n",
    "                return response[currency]\n",
    "            \n",
    "            if self.format == 'value':\n",
    "                if self.diff:\n",
    "                    diff = response[currency]['Value'] - response[currency]['Previous']\n",
    "                    return diff\n",
    "\n",
    "                return response[currency]['Value']\n",
    "        \n",
    "        return 'Error'\n",
    "    \n",
    "    def eur(self):\n",
    "        \"\"\"Возвращает курс евро на сегодня в формате self.format\"\"\"\n",
    "        return self.make_format('EUR')\n",
    "    \n",
    "    def usd(self):\n",
    "        \"\"\"Возвращает курс доллара на сегодня в формате self.format\"\"\"\n",
    "        return self.make_format('USD')\n",
    "    \n",
    "    def brl(self):\n",
    "        \"\"\"Возвращает курс бразильского реала на сегодня в формате self.format\"\"\"\n",
    "        return self.make_format('BRL')"
   ]
  },
  {
   "cell_type": "code",
   "execution_count": 18,
   "id": "reflected-storage",
   "metadata": {},
   "outputs": [
    {
     "data": {
      "text/plain": [
       "0.43369999999998754"
      ]
     },
     "execution_count": 18,
     "metadata": {},
     "output_type": "execute_result"
    }
   ],
   "source": [
    "r = Rate(diff=True)\n",
    "\n",
    "r.eur()"
   ]
  },
  {
   "cell_type": "markdown",
   "id": "identified-cricket",
   "metadata": {},
   "source": [
    "<h2>Задание 3</h2>\n",
    "Напишите класс Designer, который учитывает количество международных премий. Подсказки в коде занятия в разделе “Домашнее задание задача 3”."
   ]
  },
  {
   "cell_type": "code",
   "execution_count": 40,
   "id": "caroline-musician",
   "metadata": {},
   "outputs": [
    {
     "name": "stdout",
     "output_type": "stream",
     "text": [
      "Александр 1\n",
      "Александр 1\n",
      "Александр 1\n",
      "Александр 1\n",
      "Александр 2\n",
      "Александр 2\n",
      "Александр 2\n",
      "Александр 2\n",
      "Александр 2\n",
      "Александр 3\n",
      "Александр 3\n",
      "Александр 3\n",
      "Александр 3\n",
      "Александр 3\n",
      "Александр 4\n",
      "Александр 4\n",
      "Александр 4\n",
      "Александр 4\n",
      "Александр 4\n",
      "Александр 5\n"
     ]
    }
   ],
   "source": [
    "class Employee:\n",
    "    def __init__(self, name, seniority):\n",
    "        self.name = name\n",
    "        self.seniority = seniority\n",
    "        \n",
    "        self.grade = 1\n",
    "    \n",
    "    def grade_up(self):\n",
    "        \"\"\"Повышает уровень сотрудника\"\"\"\n",
    "        self.grade += 1\n",
    "    \n",
    "    def publish_grade(self):\n",
    "        \"\"\"Публикация результатов аккредитации сотрудников\"\"\"\n",
    "        print(self.name, self.grade)\n",
    "\n",
    "\n",
    "class Developer(Employee):\n",
    "    def __init__(self, name, seniority):\n",
    "        super().__init__(name, seniority)\n",
    "    \n",
    "    def check_if_it_is_time_for_upgrade(self):\n",
    "        # для каждой аккредитации увеличиваем счетчик на 1\n",
    "        # пока считаем, что все разработчики проходят аккредитацию\n",
    "        self.seniority += 1\n",
    "        \n",
    "        # условие повышения сотрудника из презентации\n",
    "        if self.seniority % 5 == 0:\n",
    "            self.grade_up()\n",
    "        \n",
    "        # публикация результатов\n",
    "        return self.publish_grade()\n",
    "\n",
    "alex = Developer('Александр', 0)\n",
    "for i in range(20):\n",
    "    alex.check_if_it_is_time_for_upgrade()"
   ]
  },
  {
   "cell_type": "code",
   "execution_count": 91,
   "id": "metric-significance",
   "metadata": {},
   "outputs": [
    {
     "name": "stdout",
     "output_type": "stream",
     "text": [
      "0 2 1\n",
      "Ивашка 1\n",
      "0 3 1\n",
      "Ивашка 2\n",
      "0 4 2\n",
      "Ивашка 2\n",
      "0 5 2\n",
      "Ивашка 2\n",
      "0 6 2\n",
      "Ивашка 3\n",
      "0 7 3\n",
      "Ивашка 3\n",
      "Ивашка 3\n",
      "Ивашка 3\n",
      "Ивашка 3\n",
      "Ивашка 3\n",
      "Ивашка 3\n",
      "Ивашка 4\n",
      "Ивашка 4\n",
      "Ивашка 4\n",
      "Ивашка 4\n",
      "Ивашка 4\n",
      "Ивашка 4\n",
      "Ивашка 4\n",
      "Ивашка 5\n",
      "Ивашка 5\n",
      "Ивашка 5\n",
      "Ивашка 5\n",
      "Ивашка 5\n",
      "Ивашка 5\n",
      "Ивашка 5\n"
     ]
    }
   ],
   "source": [
    "class Designer(Employee):\n",
    "    def __init__(self, name, seniority, awards=2):\n",
    "        super().__init__(name, seniority)\n",
    "        self.awards = awards\n",
    "        self.awards_to_point = 2\n",
    "        self.grade = (self.seniority + self.awards * self.awards_to_point) // 7 + 1\n",
    "    \n",
    "    def check_if_it_is_time_for_upgrade(self, delta=1):\n",
    "        # для каждой аккредитации увеличиваем счетчик на 1\n",
    "        # пока считаем, что все разработчики проходят аккредитацию\n",
    "        self.seniority += delta\n",
    "        \n",
    "        # условие повышения сотрудника из презентации\n",
    "        if (self.seniority + self.awards * self.awards_to_point) // 7 > self.grade - 1:\n",
    "            self.grade_up()\n",
    "        \n",
    "        # публикация результатов\n",
    "        return self.publish_grade()\n",
    "\n",
    "\n",
    "    def get_award(self):\n",
    "        # Международная премия дает 2 балла\n",
    "        self.awards += 1\n",
    "        self.check_if_it_is_time_for_upgrade(0)\n",
    "    \n",
    "    def check_status(self):\n",
    "        print(self.seniority, self.awards, self.grade)\n",
    "\n",
    "\n",
    "iv = Designer('Ивашка', 0)\n",
    "iv.check_status()\n",
    "iv.get_award()\n",
    "iv.check_status()\n",
    "iv.get_award()\n",
    "iv.check_status()\n",
    "iv.get_award()\n",
    "iv.check_status()\n",
    "iv.get_award()\n",
    "iv.check_status()\n",
    "iv.get_award()\n",
    "iv.check_status()\n",
    "\n",
    "for i in range(20):\n",
    "    iv.check_if_it_is_time_for_upgrade()\n",
    "#     iv.check_status()\n"
   ]
  },
  {
   "cell_type": "code",
   "execution_count": 42,
   "id": "fixed-mountain",
   "metadata": {},
   "outputs": [
    {
     "data": {
      "text/plain": [
       "1"
      ]
     },
     "execution_count": 42,
     "metadata": {},
     "output_type": "execute_result"
    }
   ],
   "source": [
    "8 // 7"
   ]
  },
  {
   "cell_type": "code",
   "execution_count": null,
   "id": "wanted-tournament",
   "metadata": {},
   "outputs": [],
   "source": []
  },
  {
   "cell_type": "code",
   "execution_count": null,
   "id": "intimate-injury",
   "metadata": {},
   "outputs": [],
   "source": []
  }
 ],
 "metadata": {
  "kernelspec": {
   "display_name": "Python 3",
   "language": "python",
   "name": "python3"
  },
  "language_info": {
   "codemirror_mode": {
    "name": "ipython",
    "version": 3
   },
   "file_extension": ".py",
   "mimetype": "text/x-python",
   "name": "python",
   "nbconvert_exporter": "python",
   "pygments_lexer": "ipython3",
   "version": "3.9.2"
  }
 },
 "nbformat": 4,
 "nbformat_minor": 5
}
