{
 "cells": [
  {
   "cell_type": "markdown",
   "id": "directed-accordance",
   "metadata": {},
   "source": [
    "<h2>Задание 1</h2>\n",
    "\n",
    "Печатные газеты использовали свой формат дат для каждого выпуска. Для каждой газеты из списка напишите формат указанной даты для перевода в объект datetime: \\\n",
    "The Moscow Times - Wednesday, October 2, 2002 \\\n",
    "The Guardian - Friday, 11.10.13 \\\n",
    "Daily News - Thursday, 18 August 1977"
   ]
  },
  {
   "cell_type": "code",
   "execution_count": null,
   "id": "convinced-fighter",
   "metadata": {},
   "outputs": [],
   "source": [
    "# https://www.w3schools.com/python/python_datetime.asp"
   ]
  },
  {
   "cell_type": "code",
   "execution_count": 6,
   "id": "stuck-toner",
   "metadata": {},
   "outputs": [
    {
     "data": {
      "text/plain": [
       "datetime.datetime(2002, 10, 2, 0, 0)"
      ]
     },
     "execution_count": 6,
     "metadata": {},
     "output_type": "execute_result"
    }
   ],
   "source": [
    "from datetime import datetime\n",
    "\n",
    "s = 'Wednesday, October 2, 2002'\n",
    "datetime.strptime(s, '%A, %B %d, %Y')\n"
   ]
  },
  {
   "cell_type": "code",
   "execution_count": 5,
   "id": "burning-virus",
   "metadata": {},
   "outputs": [
    {
     "data": {
      "text/plain": [
       "datetime.datetime(2011, 10, 13, 0, 0)"
      ]
     },
     "execution_count": 5,
     "metadata": {},
     "output_type": "execute_result"
    }
   ],
   "source": [
    "s = 'Friday, 11.10.13'\n",
    "datetime.strptime(s, '%A, %y.%m.%d')\n"
   ]
  },
  {
   "cell_type": "code",
   "execution_count": 7,
   "id": "afraid-determination",
   "metadata": {},
   "outputs": [
    {
     "data": {
      "text/plain": [
       "datetime.datetime(1977, 8, 18, 0, 0)"
      ]
     },
     "execution_count": 7,
     "metadata": {},
     "output_type": "execute_result"
    }
   ],
   "source": [
    "s = 'Thursday, 18 August 1977'\n",
    "datetime.strptime(s, '%A, %d %B %Y')\n"
   ]
  },
  {
   "cell_type": "markdown",
   "id": "driving-scottish",
   "metadata": {},
   "source": [
    "<h2>Задание 2</h2>\n",
    "\n",
    "Дан поток дат в формате YYYY-MM-DD, в которых встречаются некорректные значения: \\\n",
    "stream = [‘2018-04-02’, ‘2018-02-29’, ‘2018-19-02’]\n",
    "\n",
    "Напишите функцию, которая проверяет эти даты на корректность. Т. е. для каждой даты возвращает True (дата корректна) или False (некорректная дата)."
   ]
  },
  {
   "cell_type": "code",
   "execution_count": 13,
   "id": "laughing-intellectual",
   "metadata": {},
   "outputs": [
    {
     "name": "stdout",
     "output_type": "stream",
     "text": [
      "2018-04-02 True\n",
      "2018-02-29 False\n",
      "2018-19-02 False\n"
     ]
    }
   ],
   "source": [
    "from datetime import datetime\n",
    "\n",
    "\n",
    "def check_date(item):\n",
    "    try:\n",
    "        datetime.strptime(item, '%Y-%m-%d')\n",
    "        return True\n",
    "    except ValueError:\n",
    "        return False\n",
    "\n",
    "\n",
    "stream = ['2018-04-02', '2018-02-29', '2018-19-02']\n",
    "\n",
    "for item in stream:\n",
    "    print(item, check_date(item))\n"
   ]
  },
  {
   "cell_type": "markdown",
   "id": "controlling-ferry",
   "metadata": {},
   "source": [
    "<h2>Задание 3</h2>\n",
    "\n",
    "Напишите функцию date_range, которая возвращает список дат за период от start_date до end_date. \\\n",
    "Даты должны вводиться в формате YYYY-MM-DD. В случае неверного формата или при start_date > end_date должен возвращаться пустой список."
   ]
  },
  {
   "cell_type": "code",
   "execution_count": 27,
   "id": "chinese-venture",
   "metadata": {},
   "outputs": [
    {
     "data": {
      "text/plain": [
       "['2021-01-10', '2021-01-11']"
      ]
     },
     "execution_count": 27,
     "metadata": {},
     "output_type": "execute_result"
    }
   ],
   "source": [
    "from datetime import datetime, timedelta\n",
    "\n",
    "\n",
    "def date_range(start_date, end_date):\n",
    "    out = []\n",
    "\n",
    "    try:\n",
    "        start_date = datetime.strptime(start_date, '%Y-%m-%d')\n",
    "        end_date = datetime.strptime(end_date, '%Y-%m-%d')\n",
    "        delta = timedelta(days=1)\n",
    "    except ValueError:\n",
    "        return out\n",
    "    \n",
    "    while start_date <= end_date:\n",
    "        start_date += delta\n",
    "        out.append((start_date - delta).strftime('%Y-%m-%d'))\n",
    "\n",
    "    return out\n",
    "\n",
    "start_date = '2021-01-10'\n",
    "end_date = '2021-01-11'\n",
    "date_range(start_date, end_date)\n"
   ]
  },
  {
   "cell_type": "code",
   "execution_count": 28,
   "id": "thrown-collapse",
   "metadata": {},
   "outputs": [
    {
     "data": {
      "text/plain": [
       "[]"
      ]
     },
     "execution_count": 28,
     "metadata": {},
     "output_type": "execute_result"
    }
   ],
   "source": [
    "date_range('2021-02-30', '2021-02-31')"
   ]
  }
 ],
 "metadata": {
  "kernelspec": {
   "display_name": "Python 3",
   "language": "python",
   "name": "python3"
  },
  "language_info": {
   "codemirror_mode": {
    "name": "ipython",
    "version": 3
   },
   "file_extension": ".py",
   "mimetype": "text/x-python",
   "name": "python",
   "nbconvert_exporter": "python",
   "pygments_lexer": "ipython3",
   "version": "3.9.2"
  }
 },
 "nbformat": 4,
 "nbformat_minor": 5
}
